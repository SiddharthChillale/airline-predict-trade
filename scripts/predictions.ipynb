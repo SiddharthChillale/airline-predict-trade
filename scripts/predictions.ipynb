{
 "cells": [
  {
   "cell_type": "code",
   "execution_count": 3,
   "metadata": {},
   "outputs": [
    {
     "data": {
      "text/plain": [
       "['freight_D_df.csv',\n",
       " 'freight_I_df.csv',\n",
       " 'movement_D_df.csv',\n",
       " 'movement_I_df.csv',\n",
       " 'passengers_D_df.csv',\n",
       " 'passengers_I_df.csv']"
      ]
     },
     "execution_count": 3,
     "metadata": {},
     "output_type": "execute_result"
    }
   ],
   "source": [
    "import os\n",
    "os.listdir('../output/')"
   ]
  },
  {
   "cell_type": "code",
   "execution_count": 5,
   "metadata": {},
   "outputs": [],
   "source": [
    "import pandas as pd\n",
    "import os\n",
    "import numpy as np\n",
    "\n",
    "path = \"../output/\"\n",
    "filenamepaths = os.listdir(path)\n",
    "\n",
    "\n",
    "def read_data(filepath):\n",
    "    \n",
    "    df = pd.read_csv(filepath, thousands=',',  dtype=np.float64)\n",
    "#     df = pd.read_csv(filepath)\n",
    "\n",
    "    # print(df.columns)\n",
    "    df.rename(columns={'Unnamed: 0':'yearmon'}, inplace=True)\n",
    "    # print(df.columns)\n",
    "    return df\n"
   ]
  },
  {
   "cell_type": "code",
   "execution_count": 6,
   "metadata": {
    "scrolled": true
   },
   "outputs": [
    {
     "name": "stdout",
     "output_type": "stream",
     "text": [
      "<class 'pandas.core.frame.DataFrame'>\n",
      "<class 'pandas.core.frame.DataFrame'>\n",
      "<class 'pandas.core.frame.DataFrame'>\n",
      "<class 'pandas.core.frame.DataFrame'>\n",
      "<class 'pandas.core.frame.DataFrame'>\n",
      "<class 'pandas.core.frame.DataFrame'>\n",
      "<class 'pandas.core.frame.DataFrame'> \n",
      "\n",
      "<class 'pandas.core.frame.DataFrame'>\n",
      "RangeIndex: 52 entries, 0 to 51\n",
      "Data columns (total 6 columns):\n",
      " #   Column      Non-Null Count  Dtype  \n",
      "---  ------      --------------  -----  \n",
      " 0   yearmon     52 non-null     float64\n",
      " 1   EASTERN     52 non-null     float64\n",
      " 2   WESTERN     52 non-null     float64\n",
      " 3   SOUTHERN    52 non-null     float64\n",
      " 4   NORTHERN    52 non-null     float64\n",
      " 5   NORTH EAST  52 non-null     float64\n",
      "dtypes: float64(6)\n",
      "memory usage: 2.6 KB\n",
      "None\n"
     ]
    },
    {
     "data": {
      "text/html": [
       "<div>\n",
       "<style scoped>\n",
       "    .dataframe tbody tr th:only-of-type {\n",
       "        vertical-align: middle;\n",
       "    }\n",
       "\n",
       "    .dataframe tbody tr th {\n",
       "        vertical-align: top;\n",
       "    }\n",
       "\n",
       "    .dataframe thead th {\n",
       "        text-align: right;\n",
       "    }\n",
       "</style>\n",
       "<table border=\"1\" class=\"dataframe\">\n",
       "  <thead>\n",
       "    <tr style=\"text-align: right;\">\n",
       "      <th></th>\n",
       "      <th>yearmon</th>\n",
       "      <th>EASTERN</th>\n",
       "      <th>WESTERN</th>\n",
       "      <th>SOUTHERN</th>\n",
       "      <th>NORTHERN</th>\n",
       "      <th>NORTH EAST</th>\n",
       "    </tr>\n",
       "  </thead>\n",
       "  <tbody>\n",
       "    <tr>\n",
       "      <th>47</th>\n",
       "      <td>201911.0</td>\n",
       "      <td>4842.0</td>\n",
       "      <td>56507.0</td>\n",
       "      <td>58287.0</td>\n",
       "      <td>52807.0</td>\n",
       "      <td>0.0</td>\n",
       "    </tr>\n",
       "    <tr>\n",
       "      <th>48</th>\n",
       "      <td>202000.0</td>\n",
       "      <td>4295.0</td>\n",
       "      <td>52936.0</td>\n",
       "      <td>55385.0</td>\n",
       "      <td>50915.0</td>\n",
       "      <td>0.0</td>\n",
       "    </tr>\n",
       "    <tr>\n",
       "      <th>49</th>\n",
       "      <td>202001.0</td>\n",
       "      <td>3942.0</td>\n",
       "      <td>52947.0</td>\n",
       "      <td>56829.0</td>\n",
       "      <td>47815.0</td>\n",
       "      <td>0.0</td>\n",
       "    </tr>\n",
       "    <tr>\n",
       "      <th>50</th>\n",
       "      <td>202002.0</td>\n",
       "      <td>3394.0</td>\n",
       "      <td>40314.0</td>\n",
       "      <td>49013.0</td>\n",
       "      <td>40585.0</td>\n",
       "      <td>0.0</td>\n",
       "    </tr>\n",
       "    <tr>\n",
       "      <th>51</th>\n",
       "      <td>202003.0</td>\n",
       "      <td>280.0</td>\n",
       "      <td>14828.0</td>\n",
       "      <td>17012.0</td>\n",
       "      <td>7822.0</td>\n",
       "      <td>18.0</td>\n",
       "    </tr>\n",
       "  </tbody>\n",
       "</table>\n",
       "</div>"
      ],
      "text/plain": [
       "     yearmon  EASTERN  WESTERN  SOUTHERN  NORTHERN  NORTH EAST\n",
       "47  201911.0   4842.0  56507.0   58287.0   52807.0         0.0\n",
       "48  202000.0   4295.0  52936.0   55385.0   50915.0         0.0\n",
       "49  202001.0   3942.0  52947.0   56829.0   47815.0         0.0\n",
       "50  202002.0   3394.0  40314.0   49013.0   40585.0         0.0\n",
       "51  202003.0    280.0  14828.0   17012.0    7822.0        18.0"
      ]
     },
     "execution_count": 6,
     "metadata": {},
     "output_type": "execute_result"
    }
   ],
   "source": [
    "\n",
    "ALL_DF= {}\n",
    "for f in filenamepaths:\n",
    "    f = path + f\n",
    "    df = read_data(f)\n",
    "    ALL_DF[f[:-4]] = df\n",
    "#     print(df.tail())\n",
    "for x in ALL_DF.values():\n",
    "    print(type(x))\n",
    "print(type(ALL_DF['../output/passengers_D_df']), \"\\n\")\n",
    "print(ALL_DF['../output/passengers_D_df'].info())\n",
    "ALL_DF['../output/freight_I_df'].tail()"
   ]
  },
  {
   "cell_type": "code",
   "execution_count": 91,
   "metadata": {},
   "outputs": [],
   "source": [
    "\n",
    "# df = ALL_DF[0]\n",
    "# print(df.shape)\n",
    "# pct_5 = int(0.1*len(df))\n",
    "# df = df['EASTERN']\n",
    "# df = df.diff()\n",
    "# df.dropna(inplace=True)\n",
    "# train, test = df.iloc[:len(df)-pct_5], df.iloc[-pct_5:]\n",
    "\n",
    "# print(train.shape)\n",
    "# print(np.asarray(train))\n",
    "# print(test.shape)"
   ]
  },
  {
   "cell_type": "code",
   "execution_count": 92,
   "metadata": {},
   "outputs": [],
   "source": [
    "# df = ALL_DF['passenger_D_I']\n",
    "# df = df['NORTHERN']\n",
    "\n",
    "def give_train_test(df, ratio):\n",
    "\n",
    "    # df = df.diff()\n",
    "    df.dropna(inplace=True)\n",
    "    print(df.shape, type(df))\n",
    "    pct_5 = int(ratio*len(df))\n",
    "\n",
    "    train, test = df.iloc[:len(df)-pct_5], df.iloc[-pct_5:]\n",
    "    return train, test\n",
    "\n",
    "\n",
    "    \n",
    "\n",
    "\n",
    "# df_arr = df[:]\n",
    "# print(\"df_arr-\",type(df_arr))\n",
    "# print(\"train-\",type(train))\n"
   ]
  },
  {
   "cell_type": "code",
   "execution_count": 93,
   "metadata": {
    "scrolled": true
   },
   "outputs": [],
   "source": [
    "# print(train.tail())\n",
    "# plt.plot(train.index, train)\n",
    "# plt.show()"
   ]
  },
  {
   "cell_type": "code",
   "execution_count": 94,
   "metadata": {},
   "outputs": [],
   "source": [
    "from statsmodels.tsa.arima_model import ARIMA\n",
    "import matplotlib.pyplot as plt\n",
    "\n",
    "def plot_nums(train, test, forecast):\n",
    "    plt.plot(train.index, train, 'r')\n",
    "    indexx = [47+x for x in range(len(forecast))]\n",
    "#     total = train.index + indexx\n",
    "    plt.plot(indexx, forecast, 'g' )\n",
    "    plt.plot(test.index, test, 'y')\n",
    "#     plt.xticks([x for x in range(len(train)+len(forecast))], [total.index])\n",
    "    plt.show()\n",
    "\n",
    "    \n",
    "def give_predictions(all_train, all_test, num_of_predictions):\n",
    "    all_train_too = {}    \n",
    "\n",
    "    for name, train_dfs in all_train.items():\n",
    "\n",
    "\n",
    "        train_too_df = {}\n",
    "        for ind_col in train_dfs.columns:\n",
    "\n",
    "            if ind_col != 'yearmon':\n",
    "                model = ARIMA(train_dfs[ind_col], order=(7,0,1))\n",
    "                try:\n",
    "\n",
    "                    model_fit = model.fit(disp=0)\n",
    "                    # model_fit.summary()\n",
    "                    forecast = model_fit.forecast(steps=num_of_predictions)[0]\n",
    "    #                 len(forecast)\n",
    "    #                 print(f\"forecast: {name[10:]},{ind_col} with type: {type(forecast)}, {len(forecast)}\")\n",
    "                    forecast_df = pd.Series(forecast)\n",
    "    #                 print(f\"forecast: {name[10:]},{ind_col} with type: {type(forecast_df)}, {len(forecast_df)}\")\n",
    "\n",
    "    #                 print(type(forecast_df))\n",
    "                    train_too_df[ind_col] = pd.concat([train_dfs[ind_col], forecast_df], ignore_index=True)\n",
    "                    print(f\"{len(forecast_df)}, {train_dfs[ind_col].shape}, {train_too_df[ind_col].shape} --- {name[10:]}, {ind_col}\")\n",
    "    #                 save_predictions()\n",
    "    #                 plot_nums(train_dfs[ind_col], all_test[name][ind_col], forecast)\n",
    "                except:\n",
    "                    print(f\"Not available -{name[10:]},{ind_col}\")\n",
    "\n",
    "        print(f\"{name[10:]} = {type(train_too_df)}\")\n",
    "        all_train_too[name[10:]] = train_too_df\n",
    "        \n",
    "    return all_train_too\n",
    "\n",
    "\n",
    "    # print(forecast)"
   ]
  },
  {
   "cell_type": "code",
   "execution_count": 95,
   "metadata": {},
   "outputs": [
    {
     "name": "stdout",
     "output_type": "stream",
     "text": [
      "6\n",
      "5\n"
     ]
    }
   ],
   "source": [
    "print(len(all_train_too))\n",
    "print(len(all_train_too['movement_D_df']))"
   ]
  },
  {
   "cell_type": "code",
   "execution_count": 101,
   "metadata": {},
   "outputs": [
    {
     "name": "stdout",
     "output_type": "stream",
     "text": [
      "(52, 6) <class 'pandas.core.frame.DataFrame'>\n",
      "(52, 6) <class 'pandas.core.frame.DataFrame'>\n",
      "(52, 6) <class 'pandas.core.frame.DataFrame'>\n",
      "(52, 6) <class 'pandas.core.frame.DataFrame'>\n",
      "(52, 6) <class 'pandas.core.frame.DataFrame'>\n",
      "(52, 6) <class 'pandas.core.frame.DataFrame'>\n",
      "8, (47,), (55,) --- passengers_D_df, EASTERN\n",
      "8, (47,), (55,) --- passengers_D_df, WESTERN\n",
      "8, (47,), (55,) --- passengers_D_df, SOUTHERN\n",
      "8, (47,), (55,) --- passengers_D_df, NORTHERN\n",
      "8, (47,), (55,) --- passengers_D_df, NORTH EAST\n",
      "passengers_D_df = <class 'dict'>\n"
     ]
    },
    {
     "name": "stderr",
     "output_type": "stream",
     "text": [
      "/home/siddharth/anaconda3/lib/python3.7/site-packages/statsmodels/base/model.py:492: HessianInversionWarning: Inverting hessian failed, no bse or cov_params available\n",
      "  'available', HessianInversionWarning)\n",
      "/home/siddharth/anaconda3/lib/python3.7/site-packages/statsmodels/base/model.py:512: ConvergenceWarning: Maximum Likelihood optimization failed to converge. Check mle_retvals\n",
      "  \"Check mle_retvals\", ConvergenceWarning)\n"
     ]
    },
    {
     "name": "stdout",
     "output_type": "stream",
     "text": [
      "8, (47,), (55,) --- passengers_I_df, EASTERN\n"
     ]
    },
    {
     "name": "stderr",
     "output_type": "stream",
     "text": [
      "/home/siddharth/anaconda3/lib/python3.7/site-packages/statsmodels/base/model.py:492: HessianInversionWarning: Inverting hessian failed, no bse or cov_params available\n",
      "  'available', HessianInversionWarning)\n",
      "/home/siddharth/anaconda3/lib/python3.7/site-packages/statsmodels/base/model.py:512: ConvergenceWarning: Maximum Likelihood optimization failed to converge. Check mle_retvals\n",
      "  \"Check mle_retvals\", ConvergenceWarning)\n"
     ]
    },
    {
     "name": "stdout",
     "output_type": "stream",
     "text": [
      "8, (47,), (55,) --- passengers_I_df, WESTERN\n",
      "8, (47,), (55,) --- passengers_I_df, SOUTHERN\n",
      "8, (47,), (55,) --- passengers_I_df, NORTHERN\n"
     ]
    },
    {
     "name": "stderr",
     "output_type": "stream",
     "text": [
      "/home/siddharth/anaconda3/lib/python3.7/site-packages/statsmodels/base/model.py:492: HessianInversionWarning: Inverting hessian failed, no bse or cov_params available\n",
      "  'available', HessianInversionWarning)\n",
      "/home/siddharth/anaconda3/lib/python3.7/site-packages/statsmodels/base/model.py:512: ConvergenceWarning: Maximum Likelihood optimization failed to converge. Check mle_retvals\n",
      "  \"Check mle_retvals\", ConvergenceWarning)\n"
     ]
    },
    {
     "name": "stdout",
     "output_type": "stream",
     "text": [
      "8, (47,), (55,) --- passengers_I_df, NORTH EAST\n",
      "passengers_I_df = <class 'dict'>\n"
     ]
    },
    {
     "name": "stderr",
     "output_type": "stream",
     "text": [
      "/home/siddharth/anaconda3/lib/python3.7/site-packages/statsmodels/base/model.py:492: HessianInversionWarning: Inverting hessian failed, no bse or cov_params available\n",
      "  'available', HessianInversionWarning)\n"
     ]
    },
    {
     "name": "stdout",
     "output_type": "stream",
     "text": [
      "8, (47,), (55,) --- movement_I_df, EASTERN\n",
      "8, (47,), (55,) --- movement_I_df, WESTERN\n",
      "8, (47,), (55,) --- movement_I_df, SOUTHERN\n"
     ]
    },
    {
     "name": "stderr",
     "output_type": "stream",
     "text": [
      "/home/siddharth/anaconda3/lib/python3.7/site-packages/statsmodels/base/model.py:492: HessianInversionWarning: Inverting hessian failed, no bse or cov_params available\n",
      "  'available', HessianInversionWarning)\n",
      "/home/siddharth/anaconda3/lib/python3.7/site-packages/statsmodels/base/model.py:512: ConvergenceWarning: Maximum Likelihood optimization failed to converge. Check mle_retvals\n",
      "  \"Check mle_retvals\", ConvergenceWarning)\n"
     ]
    },
    {
     "name": "stdout",
     "output_type": "stream",
     "text": [
      "8, (47,), (55,) --- movement_I_df, NORTHERN\n",
      "8, (47,), (55,) --- movement_I_df, NORTH EAST\n",
      "movement_I_df = <class 'dict'>\n",
      "8, (47,), (55,) --- freight_D_df, EASTERN\n",
      "8, (47,), (55,) --- freight_D_df, WESTERN\n",
      "8, (47,), (55,) --- freight_D_df, SOUTHERN\n",
      "8, (47,), (55,) --- freight_D_df, NORTHERN\n",
      "8, (47,), (55,) --- freight_D_df, NORTH EAST\n",
      "freight_D_df = <class 'dict'>\n",
      "8, (47,), (55,) --- movement_D_df, EASTERN\n",
      "8, (47,), (55,) --- movement_D_df, WESTERN\n"
     ]
    },
    {
     "name": "stderr",
     "output_type": "stream",
     "text": [
      "/home/siddharth/anaconda3/lib/python3.7/site-packages/statsmodels/base/model.py:492: HessianInversionWarning: Inverting hessian failed, no bse or cov_params available\n",
      "  'available', HessianInversionWarning)\n"
     ]
    },
    {
     "name": "stdout",
     "output_type": "stream",
     "text": [
      "8, (47,), (55,) --- movement_D_df, SOUTHERN\n",
      "8, (47,), (55,) --- movement_D_df, NORTHERN\n",
      "8, (47,), (55,) --- movement_D_df, NORTH EAST\n",
      "movement_D_df = <class 'dict'>\n"
     ]
    },
    {
     "name": "stderr",
     "output_type": "stream",
     "text": [
      "/home/siddharth/anaconda3/lib/python3.7/site-packages/statsmodels/base/model.py:512: ConvergenceWarning: Maximum Likelihood optimization failed to converge. Check mle_retvals\n",
      "  \"Check mle_retvals\", ConvergenceWarning)\n"
     ]
    },
    {
     "name": "stdout",
     "output_type": "stream",
     "text": [
      "8, (47,), (55,) --- freight_I_df, EASTERN\n",
      "Not available -freight_I_df,WESTERN\n"
     ]
    },
    {
     "name": "stderr",
     "output_type": "stream",
     "text": [
      "/home/siddharth/anaconda3/lib/python3.7/site-packages/statsmodels/base/model.py:492: HessianInversionWarning: Inverting hessian failed, no bse or cov_params available\n",
      "  'available', HessianInversionWarning)\n",
      "/home/siddharth/anaconda3/lib/python3.7/site-packages/statsmodels/base/model.py:512: ConvergenceWarning: Maximum Likelihood optimization failed to converge. Check mle_retvals\n",
      "  \"Check mle_retvals\", ConvergenceWarning)\n"
     ]
    },
    {
     "name": "stdout",
     "output_type": "stream",
     "text": [
      "8, (47,), (55,) --- freight_I_df, SOUTHERN\n",
      "8, (47,), (55,) --- freight_I_df, NORTHERN\n",
      "8, (47,), (55,) --- freight_I_df, NORTH EAST\n",
      "freight_I_df = <class 'dict'>\n"
     ]
    }
   ],
   "source": [
    "\n",
    "all_train = {}\n",
    "all_test = {}\n",
    "for name, dfs in ALL_DF.items():\n",
    "    \n",
    "    train, test = give_train_test(dfs, 0.1)\n",
    "    \n",
    "    all_train[name] = train\n",
    "    all_test[name] = test\n",
    "\n",
    "    \n",
    "\n",
    "all_train_too = give_predictions(all_train, all_test, 8 )\n",
    "\n",
    "\n",
    "def save_predictions(all_train_too):\n",
    "    for x, out1 in all_train_too.items():\n",
    "        for in_col,in_df  in out1.items():\n",
    "            in_df.to_csv(f'../forecast/{x}_{in_col}.csv')"
   ]
  },
  {
   "cell_type": "code",
   "execution_count": 97,
   "metadata": {},
   "outputs": [],
   "source": [
    "# model = ARIMA(df_arr, order=(7,0,1))\n",
    "# model_fit = model.fit(disp=0)\n",
    "# # model_fit.summary()\n",
    "# forecast = model_fit.forecast(steps=20)[0]\n",
    "# print(forecast)"
   ]
  },
  {
   "cell_type": "code",
   "execution_count": 98,
   "metadata": {},
   "outputs": [],
   "source": [
    "# plt.plot(df_arr.index, df_arr, 'r')\n",
    "# indexx = [52+x for x in range(20)]\n",
    "# plt.plot(indexx, forecast, 'g' )\n",
    "# plt.show()"
   ]
  },
  {
   "cell_type": "code",
   "execution_count": 102,
   "metadata": {},
   "outputs": [],
   "source": [
    "save_predictions(all_train_too)"
   ]
  },
  {
   "cell_type": "code",
   "execution_count": null,
   "metadata": {},
   "outputs": [],
   "source": []
  }
 ],
 "metadata": {
  "kernelspec": {
   "display_name": "Python 3",
   "language": "python",
   "name": "python3"
  },
  "language_info": {
   "codemirror_mode": {
    "name": "ipython",
    "version": 3
   },
   "file_extension": ".py",
   "mimetype": "text/x-python",
   "name": "python",
   "nbconvert_exporter": "python",
   "pygments_lexer": "ipython3",
   "version": "3.7.6"
  }
 },
 "nbformat": 4,
 "nbformat_minor": 2
}
