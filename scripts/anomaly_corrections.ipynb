{
 "cells": [
  {
   "cell_type": "code",
   "execution_count": 2,
   "metadata": {},
   "outputs": [],
   "source": [
    "import requests\n",
    "import tabula\n",
    "import pandas as pd\n",
    "import os\n",
    "import itertools\n",
    "\n",
    "import logging\n",
    "logging.basicConfig(level=logging.INFO,\n",
    "                    format=\"%(levelname)s:%(message)s\")\n",
    "import warnings\n",
    "warnings.filterwarnings(\"ignore\")\n",
    "\n",
    "url_head = \"https://www.aai.aero/sites/default/files/traffic-news/\"\n",
    "\n",
    "months = ['Jan', 'Feb', 'Mar', 'Apr', 'May', 'Jun', 'Jul', 'Aug', 'Sep', 'Oct', 'Nov', 'Dec']\n",
    "\n",
    "\n",
    "cent = '2k'\n",
    "\n",
    "\n",
    "anomaly_filenames = ['Mar2k15annex5_', 'Sep2k16annex5', 'Apr2k17annex5', 'Sep2k17annex5', 'Nov2k17annex5', 'Apr2k18annex5', 'Apr2k19Annex5']\n",
    "\n"
   ]
  },
  {
   "cell_type": "code",
   "execution_count": 4,
   "metadata": {},
   "outputs": [],
   "source": [
    "os.chdir('../anomalies')"
   ]
  },
  {
   "cell_type": "code",
   "execution_count": 12,
   "metadata": {
    "collapsed": true
   },
   "outputs": [
    {
     "name": "stderr",
     "output_type": "stream",
     "text": [
      "INFO:Written to PDF:Mar2k15annex5_\n"
     ]
    },
    {
     "name": "stdout",
     "output_type": "stream",
     "text": [
      "f: Mar2k15annex5_\n",
      "saving\n"
     ]
    },
    {
     "name": "stderr",
     "output_type": "stream",
     "text": [
      "WARNING:Got stderr: Jun 06, 2020 4:08:05 AM org.apache.pdfbox.pdmodel.font.FileSystemFontProvider loadDiskCache\n",
      "WARNING: New fonts found, font cache will be re-built\n",
      "Jun 06, 2020 4:08:05 AM org.apache.pdfbox.pdmodel.font.FileSystemFontProvider <init>\n",
      "WARNING: Building on-disk font cache, this may take a while\n",
      "Jun 06, 2020 4:08:05 AM org.apache.pdfbox.pdmodel.font.FileSystemFontProvider <init>\n",
      "WARNING: Finished building on-disk font cache, found 371 fonts\n",
      "\n",
      "INFO:Written to PDF:Sep2k16annex5\n"
     ]
    },
    {
     "name": "stdout",
     "output_type": "stream",
     "text": [
      "f: Sep2k16annex5\n",
      "saving\n"
     ]
    },
    {
     "name": "stderr",
     "output_type": "stream",
     "text": [
      "INFO:Written to PDF:Apr2k17annex5\n"
     ]
    },
    {
     "name": "stdout",
     "output_type": "stream",
     "text": [
      "f: Apr2k17annex5\n",
      "saving\n"
     ]
    },
    {
     "name": "stderr",
     "output_type": "stream",
     "text": [
      "INFO:Written to PDF:Sep2k17annex5\n"
     ]
    },
    {
     "name": "stdout",
     "output_type": "stream",
     "text": [
      "f: Sep2k17annex5\n",
      "saving\n"
     ]
    },
    {
     "name": "stderr",
     "output_type": "stream",
     "text": [
      "INFO:Written to PDF:Nov2k17annex5\n"
     ]
    },
    {
     "name": "stdout",
     "output_type": "stream",
     "text": [
      "f: Nov2k17annex5\n",
      "saving\n"
     ]
    },
    {
     "name": "stderr",
     "output_type": "stream",
     "text": [
      "INFO:Written to PDF:Apr2k18annex5\n"
     ]
    },
    {
     "name": "stdout",
     "output_type": "stream",
     "text": [
      "f: Apr2k18annex5\n",
      "saving\n"
     ]
    },
    {
     "name": "stderr",
     "output_type": "stream",
     "text": [
      "INFO:Written to PDF:Apr2k19Annex5\n"
     ]
    },
    {
     "name": "stdout",
     "output_type": "stream",
     "text": [
      "f: Apr2k19Annex5\n",
      "saving\n"
     ]
    },
    {
     "name": "stderr",
     "output_type": "stream",
     "text": [
      "WARNING:Got stderr: Jun 06, 2020 4:08:28 AM org.apache.pdfbox.pdmodel.font.PDCIDFontType2 <init>\r\n",
      "INFO: OpenType Layout tables used in font ABCDEE+Nirmala UI are not implemented in PDFBox and will be ignored\r\n",
      "Jun 06, 2020 4:08:28 AM org.apache.pdfbox.pdmodel.font.PDSimpleFont toUnicode\r\n",
      "WARNING: No Unicode mapping for .notdef (10) in font Arial\r\n",
      "Jun 06, 2020 4:08:28 AM org.apache.pdfbox.pdmodel.font.PDCIDFontType2 <init>\r\n",
      "INFO: OpenType Layout tables used in font ABCDEE+Nirmala UI,Bold are not implemented in PDFBox and will be ignored\r\n",
      "\n"
     ]
    },
    {
     "name": "stdout",
     "output_type": "stream",
     "text": [
      "error_filenames: []\n"
     ]
    }
   ],
   "source": [
    "all_urls = []\n",
    "files = []\n",
    "error_filenames = []\n",
    "outputfiles=[]\n",
    "\n",
    "for ind, f in enumerate(anomaly_filenames):\n",
    "    url = f\"{url_head + f}.pdf\"\n",
    "    ind = str(ind)\n",
    "    try:\n",
    "        response = requests.get(url, verify=False)\n",
    "    except:\n",
    "        logging.error(\":Not available online. Try manually: \"+f)\n",
    "    print(f\"f: {f}\")\n",
    "    with open(f\"{ind+f}.pdf\", 'wb') as fo:\n",
    "        print(\"saving\")\n",
    "        try:\n",
    "            fo.write(response.content)\n",
    "            logging.info(f\"Written to PDF:{f}\")\n",
    "            files.append(f)\n",
    "        except:\n",
    "            logging.critical(f\"Failed to write to {f}\")\n",
    "\n",
    "    try:\n",
    "        out = f\"ano-{ind+f}.csv\"\n",
    "        tabula.convert_into(ind+str(f+\".pdf\"), out, output_format=\"csv\", pages='all')\n",
    "        outputfiles.append(out)\n",
    "    except:\n",
    "        logging.critical(f\"Failed to save output to {f}\")\n",
    "        error_filenames.append(f)\n",
    "\n",
    "        \n",
    "print(f\"error_filenames: {error_filenames}\")"
   ]
  },
  {
   "cell_type": "code",
   "execution_count": null,
   "metadata": {},
   "outputs": [],
   "source": []
  }
 ],
 "metadata": {
  "kernelspec": {
   "display_name": "Python 3",
   "language": "python",
   "name": "python3"
  },
  "language_info": {
   "codemirror_mode": {
    "name": "ipython",
    "version": 3
   },
   "file_extension": ".py",
   "mimetype": "text/x-python",
   "name": "python",
   "nbconvert_exporter": "python",
   "pygments_lexer": "ipython3",
   "version": "3.7.6"
  }
 },
 "nbformat": 4,
 "nbformat_minor": 4
}
