{
 "cells": [
  {
   "cell_type": "code",
   "execution_count": 6,
   "metadata": {},
   "outputs": [
    {
     "name": "stdout",
     "output_type": "stream",
     "text": [
      "agg.ipynb  charting.ipynb   predictions.ipynb  scratchpad_lab_modified.py\r\n",
      "agg.py\t   devangari.ipynb  PREDS_ML.ipynb\r\n"
     ]
    },
    {
     "data": {
      "text/plain": [
       "['passengers_D_df.csv',\n",
       " 'passengers_I_df.csv',\n",
       " 'movement_I_df.csv',\n",
       " 'freight_D_df.csv',\n",
       " 'movement_D_df.csv',\n",
       " 'freight_I_df.csv']"
      ]
     },
     "execution_count": 6,
     "metadata": {},
     "output_type": "execute_result"
    }
   ],
   "source": [
    "!ls\n",
    "import os\n",
    "os.listdir('../output/')"
   ]
  },
  {
   "cell_type": "code",
   "execution_count": 7,
   "metadata": {},
   "outputs": [],
   "source": [
    "import pandas as pd\n",
    "import os\n",
    "import numpy as np\n",
    "\n",
    "path = \"../output/\"\n",
    "filenamepaths = os.listdir(path)\n",
    "\n",
    "\n",
    "def read_data(filepath):\n",
    "    \n",
    "    df = pd.read_csv(filepath, dtype=np.float64)\n",
    "    # print(df.columns)\n",
    "    df.rename(columns={'Unnamed: 0':'yearmon'}, inplace=True)\n",
    "    # print(df.columns)\n",
    "    return df\n"
   ]
  },
  {
   "cell_type": "code",
   "execution_count": 8,
   "metadata": {
    "scrolled": true
   },
   "outputs": [
    {
     "name": "stdout",
     "output_type": "stream",
     "text": [
      "<class 'pandas.core.frame.DataFrame'>\n",
      "<class 'pandas.core.frame.DataFrame'>\n",
      "<class 'pandas.core.frame.DataFrame'>\n",
      "<class 'pandas.core.frame.DataFrame'>\n",
      "<class 'pandas.core.frame.DataFrame'>\n",
      "<class 'pandas.core.frame.DataFrame'>\n"
     ]
    },
    {
     "data": {
      "text/plain": [
       "dict"
      ]
     },
     "execution_count": 8,
     "metadata": {},
     "output_type": "execute_result"
    }
   ],
   "source": [
    "\n",
    "ALL_DF= {}\n",
    "for f in filenamepaths:\n",
    "    f = path + f\n",
    "    df = read_data(f)\n",
    "    ALL_DF[f[:-4]] = df\n",
    "#     print(df.tail())\n",
    "for x in ALL_DF.values():\n",
    "    print(type(x))\n",
    "type(ALL_DF)"
   ]
  },
  {
   "cell_type": "code",
   "execution_count": 9,
   "metadata": {},
   "outputs": [],
   "source": [
    "\n",
    "# df = ALL_DF[0]\n",
    "# print(df.shape)\n",
    "# pct_5 = int(0.1*len(df))\n",
    "# df = df['EASTERN']\n",
    "# df = df.diff()\n",
    "# df.dropna(inplace=True)\n",
    "# train, test = df.iloc[:len(df)-pct_5], df.iloc[-pct_5:]\n",
    "\n",
    "# print(train.shape)\n",
    "# print(np.asarray(train))\n",
    "# print(test.shape)"
   ]
  },
  {
   "cell_type": "code",
   "execution_count": 11,
   "metadata": {},
   "outputs": [
    {
     "name": "stdout",
     "output_type": "stream",
     "text": [
      "(52, 6) <class 'pandas.core.frame.DataFrame'>\n",
      "(52, 6) <class 'pandas.core.frame.DataFrame'>\n",
      "(52, 6) <class 'pandas.core.frame.DataFrame'>\n",
      "(52, 6) <class 'pandas.core.frame.DataFrame'>\n",
      "(52, 6) <class 'pandas.core.frame.DataFrame'>\n",
      "(52, 6) <class 'pandas.core.frame.DataFrame'>\n"
     ]
    }
   ],
   "source": [
    "# df = ALL_DF['passenger_D_I']\n",
    "# df = df['NORTHERN']\n",
    "\n",
    "def give_train_test(df):\n",
    "\n",
    "    # df = df.diff()\n",
    "    df.dropna(inplace=True)\n",
    "    print(df.shape, type(df))\n",
    "    pct_5 = int(0.1*len(df))\n",
    "\n",
    "    train, test = df.iloc[:len(df)-pct_5], df.iloc[-pct_5:]\n",
    "    return train, test\n",
    "\n",
    "\n",
    "all_train = {}\n",
    "all_test = {}\n",
    "for name, dfs in ALL_DF.items():\n",
    "    \n",
    "    train, test = give_train_test(dfs)\n",
    "    \n",
    "    all_train[name] = train\n",
    "    all_test[name] = test\n",
    "    \n",
    "    \n",
    "\n",
    "\n",
    "# df_arr = df[:]\n",
    "# print(\"df_arr-\",type(df_arr))\n",
    "# print(\"train-\",type(train))\n"
   ]
  },
  {
   "cell_type": "code",
   "execution_count": 12,
   "metadata": {
    "scrolled": true
   },
   "outputs": [],
   "source": [
    "# print(train.tail())\n",
    "# plt.plot(train.index, train)\n",
    "# plt.show()"
   ]
  },
  {
   "cell_type": "code",
   "execution_count": null,
   "metadata": {},
   "outputs": [],
   "source": [
    "from statsmodels.tsa.arima_model import ARIMA\n",
    "import matplotlib.pyplot as plt\n",
    "\n",
    "def plot_nums(train, test, forecast):\n",
    "    plt.plot(train.index, train, 'r')\n",
    "    indexx = [47, 48, 49, 50, 51, 52, 53]\n",
    "    plt.plot(indexx, forecast, 'g' )\n",
    "    plt.plot(test.index, test, 'y')\n",
    "    plt.show()\n",
    "    \n",
    "    \n",
    "for name, train_dfs in all_train.items():\n",
    "    \n",
    "\n",
    "    for ind_col in train_dfs.columns:\n",
    "        try:\n",
    "            model = ARIMA(train_dfs[ind_col], order=(7,0,1))\n",
    "            model_fit = model.fit(disp=0)\n",
    "            # model_fit.summary()\n",
    "            forecast = model_fit.forecast(steps=7)[0]\n",
    "            forecast_df = pd.Series([forecast])\n",
    "            train_dfs = pd.concat([train_dfs, forecast_df])\n",
    "            plot_nums(train_dfs, all_test[ind_col], forecast_df)\n",
    "        except:\n",
    "            print(f\"Not available{name},{ind_col}\")\n",
    "        \n",
    "\n",
    "# print(forecast)"
   ]
  },
  {
   "cell_type": "code",
   "execution_count": 158,
   "metadata": {},
   "outputs": [
    {
     "data": {
      "image/png": "[encoded data removed]",
      "text/plain": [
       "<Figure size 432x288 with 1 Axes>"
      ]
     },
     "metadata": {
      "needs_background": "light"
     },
     "output_type": "display_data"
    }
   ],
   "source": [
    "\n",
    "    \n",
    "    \n"
   ]
  },
  {
   "cell_type": "code",
   "execution_count": 159,
   "metadata": {},
   "outputs": [
    {
     "name": "stdout",
     "output_type": "stream",
     "text": [
      "[42307.26141821 39595.89516901 50647.38685805 45278.98471744\n",
      " 40645.7369768  43805.48407374 39835.07351053 45821.31403343\n",
      " 43403.66586955 44845.75667715 44285.41846175 43090.23910121\n",
      " 44477.57152275 43229.58596867 44485.36315251 43846.80420559\n",
      " 44019.16843536 44106.69176787 43735.93883835 44166.4637424 ]\n"
     ]
    }
   ],
   "source": [
    "model = ARIMA(df_arr, order=(7,0,1))\n",
    "model_fit = model.fit(disp=0)\n",
    "# model_fit.summary()\n",
    "forecast = model_fit.forecast(steps=20)[0]\n",
    "print(forecast)"
   ]
  },
  {
   "cell_type": "code",
   "execution_count": 160,
   "metadata": {},
   "outputs": [
    {
     "data": {
      "image/png": "[encoded data removed]",
      "text/plain": [
       "<Figure size 432x288 with 1 Axes>"
      ]
     },
     "metadata": {
      "needs_background": "light"
     },
     "output_type": "display_data"
    }
   ],
   "source": [
    "plt.plot(df_arr.index, df_arr, 'r')\n",
    "indexx = [52+x for x in range(20)]\n",
    "plt.plot(indexx, forecast, 'g' )\n",
    "plt.show()"
   ]
  },
  {
   "cell_type": "code",
   "execution_count": null,
   "metadata": {},
   "outputs": [],
   "source": []
  }
 ],
 "metadata": {
  "kernelspec": {
   "display_name": "Python 3",
   "language": "python",
   "name": "python3"
  },
  "language_info": {
   "codemirror_mode": {
    "name": "ipython",
    "version": 3
   },
   "file_extension": ".py",
   "mimetype": "text/x-python",
   "name": "python",
   "nbconvert_exporter": "python",
   "pygments_lexer": "ipython3",
   "version": "3.7.3"
  }
 },
 "nbformat": 4,
 "nbformat_minor": 2
}
