{
 "cells": [
  {
   "cell_type": "code",
   "execution_count": 1,
   "metadata": {},
   "outputs": [],
   "source": [
    "import requests\n",
    "import tabula\n",
    "import pandas as pd\n",
    "import os\n",
    "import itertools"
   ]
  },
  {
   "cell_type": "code",
   "execution_count": 2,
   "metadata": {},
   "outputs": [],
   "source": [
    "import logging\n",
    "logging.basicConfig(level=logging.INFO,\n",
    "                    filename='test.log',\n",
    "                    format=\"%(levelname)s:%(message)s\")\n",
    "import warnings\n",
    "warnings.filterwarnings(\"ignore\")"
   ]
  },
  {
   "cell_type": "code",
   "execution_count": 5,
   "metadata": {},
   "outputs": [],
   "source": [
    "\n",
    "\n",
    "url_head = \"https://www.aai.aero/sites/default/files/traffic-news/\"\n",
    "\n",
    "months = ['Jan', 'Feb', 'Mar', 'Apr', 'May', 'Jun', 'Jul', 'Aug', 'Sep', 'Oct', 'Nov', 'Dec']\n",
    "\n",
    "\n",
    "cent = '2k'\n",
    "\n",
    "\n",
    "years = [16, 17, 18, 19, 20]\n",
    "\n",
    "annexes = 'annex5'\n",
    "\n",
    "C_annexes = 'Annex5'\n",
    "\n",
    "           \n",
    "error_filenames_cor = [\n",
    "       'Mar2k15annex5_',  'apr2k16annex5R', 'Mar2k17annex5R', 'OCT2k17annex5', 'Dec2k18Annex5', 'Feb2k19Annex5_0', 'Mar2K19Annex5', 'June2k19Annex5', 'Dec2k19Annex5_0', 'Jan2k20Annex5_0'\n",
    "   ]\n",
    "\n",
    "error_filenames = [\n",
    "       'Mar2k16annex5',  'Apr2k16annex5', 'Mar2k17annex5', 'Oct2k17annex5', 'Dec2k18annex5', 'Feb2k19Annex5', 'Mar2k19Annex5', 'Jun2k19Annex5', 'Dec2k19Annex5', 'Jan2k20Annex5'\n",
    "   ]\n"
   ]
  },
  {
   "cell_type": "code",
   "execution_count": 6,
   "metadata": {},
   "outputs": [],
   "source": [
    "allFiles = {}"
   ]
  },
  {
   "cell_type": "code",
   "execution_count": 7,
   "metadata": {},
   "outputs": [],
   "source": [
    "for year in years:\n",
    "    for ind,month in enumerate(months):\n",
    "        for annex in annexes:\n",
    "            url = url_head + month + cent + str(year) + annex + \".pdf\"\n",
    "            \n",
    "            filename = month + cent + str(year) + annex\n",
    "            allFiles[filename.lower()] = filename"
   ]
  },
  {
   "cell_type": "code",
   "execution_count": 8,
   "metadata": {},
   "outputs": [],
   "source": [
    "\n",
    "for year in years[3:]:\n",
    "    for ind,month in enumerate(months):\n",
    "        for annex in C_annexes:\n",
    "            url = url_head + month + cent + str(year) + annex + \".pdf\"\n",
    "            \n",
    "            filename = month + cent + str(year) + annex\n",
    "            allFiles[filename.lower()] = filename\n",
    "    "
   ]
  },
  {
   "cell_type": "code",
   "execution_count": 10,
   "metadata": {
    "scrolled": true
   },
   "outputs": [
    {
     "data": {
      "text/plain": [
       "60"
      ]
     },
     "execution_count": 10,
     "metadata": {},
     "output_type": "execute_result"
    }
   ],
   "source": [
    "len(allFiles)"
   ]
  },
  {
   "cell_type": "code",
   "execution_count": 11,
   "metadata": {
    "collapsed": true
   },
   "outputs": [
    {
     "data": {
      "text/plain": [
       "{'jan2k16annex5': 'Jan2k16annex5',\n",
       " 'feb2k16annex5': 'Feb2k16annex5',\n",
       " 'mar2k16annex5': 'Mar2k16annex5',\n",
       " 'apr2k16annex5': 'Apr2k16annex5',\n",
       " 'may2k16annex5': 'May2k16annex5',\n",
       " 'jun2k16annex5': 'Jun2k16annex5',\n",
       " 'jul2k16annex5': 'Jul2k16annex5',\n",
       " 'aug2k16annex5': 'Aug2k16annex5',\n",
       " 'sep2k16annex5': 'Sep2k16annex5',\n",
       " 'oct2k16annex5': 'Oct2k16annex5',\n",
       " 'nov2k16annex5': 'Nov2k16annex5',\n",
       " 'dec2k16annex5': 'Dec2k16annex5',\n",
       " 'jan2k17annex5': 'Jan2k17annex5',\n",
       " 'feb2k17annex5': 'Feb2k17annex5',\n",
       " 'mar2k17annex5': 'Mar2k17annex5',\n",
       " 'apr2k17annex5': 'Apr2k17annex5',\n",
       " 'may2k17annex5': 'May2k17annex5',\n",
       " 'jun2k17annex5': 'Jun2k17annex5',\n",
       " 'jul2k17annex5': 'Jul2k17annex5',\n",
       " 'aug2k17annex5': 'Aug2k17annex5',\n",
       " 'sep2k17annex5': 'Sep2k17annex5',\n",
       " 'oct2k17annex5': 'Oct2k17annex5',\n",
       " 'nov2k17annex5': 'Nov2k17annex5',\n",
       " 'dec2k17annex5': 'Dec2k17annex5',\n",
       " 'jan2k18annex5': 'Jan2k18annex5',\n",
       " 'feb2k18annex5': 'Feb2k18annex5',\n",
       " 'mar2k18annex5': 'Mar2k18annex5',\n",
       " 'apr2k18annex5': 'Apr2k18annex5',\n",
       " 'may2k18annex5': 'May2k18annex5',\n",
       " 'jun2k18annex5': 'Jun2k18annex5',\n",
       " 'jul2k18annex5': 'Jul2k18annex5',\n",
       " 'aug2k18annex5': 'Aug2k18annex5',\n",
       " 'sep2k18annex5': 'Sep2k18annex5',\n",
       " 'oct2k18annex5': 'Oct2k18annex5',\n",
       " 'nov2k18annex5': 'Nov2k18annex5',\n",
       " 'dec2k18annex5': 'Dec2k18annex5',\n",
       " 'jan2k19annex5': 'Jan2k19Annex5',\n",
       " 'feb2k19annex5': 'Feb2k19Annex5',\n",
       " 'mar2k19annex5': 'Mar2k19Annex5',\n",
       " 'apr2k19annex5': 'Apr2k19Annex5',\n",
       " 'may2k19annex5': 'May2k19Annex5',\n",
       " 'jun2k19annex5': 'Jun2k19Annex5',\n",
       " 'jul2k19annex5': 'Jul2k19Annex5',\n",
       " 'aug2k19annex5': 'Aug2k19Annex5',\n",
       " 'sep2k19annex5': 'Sep2k19Annex5',\n",
       " 'oct2k19annex5': 'Oct2k19Annex5',\n",
       " 'nov2k19annex5': 'Nov2k19Annex5',\n",
       " 'dec2k19annex5': 'Dec2k19Annex5',\n",
       " 'jan2k20annex5': 'Jan2k20Annex5',\n",
       " 'feb2k20annex5': 'Feb2k20Annex5',\n",
       " 'mar2k20annex5': 'Mar2k20Annex5',\n",
       " 'apr2k20annex5': 'Apr2k20Annex5',\n",
       " 'may2k20annex5': 'May2k20Annex5',\n",
       " 'jun2k20annex5': 'Jun2k20Annex5',\n",
       " 'jul2k20annex5': 'Jul2k20Annex5',\n",
       " 'aug2k20annex5': 'Aug2k20Annex5',\n",
       " 'sep2k20annex5': 'Sep2k20Annex5',\n",
       " 'oct2k20annex5': 'Oct2k20Annex5',\n",
       " 'nov2k20annex5': 'Nov2k20Annex5',\n",
       " 'dec2k20annex5': 'Dec2k20Annex5'}"
      ]
     },
     "execution_count": 11,
     "metadata": {},
     "output_type": "execute_result"
    }
   ],
   "source": [
    "allFiles"
   ]
  },
  {
   "cell_type": "code",
   "execution_count": 14,
   "metadata": {},
   "outputs": [
    {
     "data": {
      "text/plain": [
       "52"
      ]
     },
     "execution_count": 14,
     "metadata": {},
     "output_type": "execute_result"
    }
   ],
   "source": [
    "unwanted_months = ['May', 'Jun', 'Jul', 'Aug', 'Sep', 'Oct', 'Nov', 'Dec']\n",
    "allFiles = dict(itertools.islice(allFiles.items(), len(years)*len(months)-len(unwanted_months)))\n",
    "len(allFiles)"
   ]
  },
  {
   "cell_type": "code",
   "execution_count": 15,
   "metadata": {},
   "outputs": [],
   "source": [
    "for x,y in zip(error_filenames,error_filenames_cor):\n",
    "    allFiles[x.lower()] = y\n",
    "    "
   ]
  },
  {
   "cell_type": "code",
   "execution_count": 16,
   "metadata": {
    "collapsed": true
   },
   "outputs": [
    {
     "data": {
      "text/plain": [
       "{'jan2k16annex5': 'Jan2k16annex5',\n",
       " 'feb2k16annex5': 'Feb2k16annex5',\n",
       " 'mar2k16annex5': 'Mar2k15annex5_',\n",
       " 'apr2k16annex5': 'apr2k16annex5R',\n",
       " 'may2k16annex5': 'May2k16annex5',\n",
       " 'jun2k16annex5': 'Jun2k16annex5',\n",
       " 'jul2k16annex5': 'Jul2k16annex5',\n",
       " 'aug2k16annex5': 'Aug2k16annex5',\n",
       " 'sep2k16annex5': 'Sep2k16annex5',\n",
       " 'oct2k16annex5': 'Oct2k16annex5',\n",
       " 'nov2k16annex5': 'Nov2k16annex5',\n",
       " 'dec2k16annex5': 'Dec2k16annex5',\n",
       " 'jan2k17annex5': 'Jan2k17annex5',\n",
       " 'feb2k17annex5': 'Feb2k17annex5',\n",
       " 'mar2k17annex5': 'Mar2k17annex5R',\n",
       " 'apr2k17annex5': 'Apr2k17annex5',\n",
       " 'may2k17annex5': 'May2k17annex5',\n",
       " 'jun2k17annex5': 'Jun2k17annex5',\n",
       " 'jul2k17annex5': 'Jul2k17annex5',\n",
       " 'aug2k17annex5': 'Aug2k17annex5',\n",
       " 'sep2k17annex5': 'Sep2k17annex5',\n",
       " 'oct2k17annex5': 'OCT2k17annex5',\n",
       " 'nov2k17annex5': 'Nov2k17annex5',\n",
       " 'dec2k17annex5': 'Dec2k17annex5',\n",
       " 'jan2k18annex5': 'Jan2k18annex5',\n",
       " 'feb2k18annex5': 'Feb2k18annex5',\n",
       " 'mar2k18annex5': 'Mar2k18annex5',\n",
       " 'apr2k18annex5': 'Apr2k18annex5',\n",
       " 'may2k18annex5': 'May2k18annex5',\n",
       " 'jun2k18annex5': 'Jun2k18annex5',\n",
       " 'jul2k18annex5': 'Jul2k18annex5',\n",
       " 'aug2k18annex5': 'Aug2k18annex5',\n",
       " 'sep2k18annex5': 'Sep2k18annex5',\n",
       " 'oct2k18annex5': 'Oct2k18annex5',\n",
       " 'nov2k18annex5': 'Nov2k18annex5',\n",
       " 'dec2k18annex5': 'Dec2k18Annex5',\n",
       " 'jan2k19annex5': 'Jan2k19Annex5',\n",
       " 'feb2k19annex5': 'Feb2k19Annex5_0',\n",
       " 'mar2k19annex5': 'Mar2K19Annex5',\n",
       " 'apr2k19annex5': 'Apr2k19Annex5',\n",
       " 'may2k19annex5': 'May2k19Annex5',\n",
       " 'jun2k19annex5': 'June2k19Annex5',\n",
       " 'jul2k19annex5': 'Jul2k19Annex5',\n",
       " 'aug2k19annex5': 'Aug2k19Annex5',\n",
       " 'sep2k19annex5': 'Sep2k19Annex5',\n",
       " 'oct2k19annex5': 'Oct2k19Annex5',\n",
       " 'nov2k19annex5': 'Nov2k19Annex5',\n",
       " 'dec2k19annex5': 'Dec2k19Annex5_0',\n",
       " 'jan2k20annex5': 'Jan2k20Annex5_0',\n",
       " 'feb2k20annex5': 'Feb2k20Annex5',\n",
       " 'mar2k20annex5': 'Mar2k20Annex5',\n",
       " 'apr2k20annex5': 'Apr2k20Annex5'}"
      ]
     },
     "execution_count": 16,
     "metadata": {},
     "output_type": "execute_result"
    }
   ],
   "source": [
    "allFiles"
   ]
  },
  {
   "cell_type": "code",
   "execution_count": null,
   "metadata": {},
   "outputs": [],
   "source": [
    "\n",
    "for year in years:\n",
    "    os.mkdir(f'{str(20) + str(year)}')\n",
    "    os.chdir(f'{str(20) + str(year)}')\n",
    "    for ind,month in enumerate(months):\n",
    "        \n",
    "        for annex in annexes:\n",
    "            \n",
    "            filename = (month + cent + str(year) + annex).lower()\n",
    "            \n",
    "            url = url_head + allFiles[filename] + \".pdf\"\n",
    "            \n",
    "            \n",
    "            \n",
    "            try:\n",
    "                response = requests.get(url, verify=False)\n",
    "            except:\n",
    "                logging.error(\":Not available online. Try manually: \"+filename)\n",
    "\n",
    "            with open(filename+\".pdf\", 'wb') as f:\n",
    "                print(\"saving\")\n",
    "                try:\n",
    "                    f.write(response.content)\n",
    "                    logging.info(\"Written to PDF:\"+filename)\n",
    "                    files.append(filename)\n",
    "                except:\n",
    "                    logging.critical(\"Failed to write to \" + filename)\n",
    "            \n",
    "            try:\n",
    "                out = \"output-\"+filename+\".csv\"\n",
    "                tabula.convert_into(str(filename+\".pdf\"), out, output_format=\"csv\", pages='all')\n",
    "                outputfiles.append(out)\n",
    "            except:\n",
    "                logging.critical(\"Failed to save output to \" + filename)\n",
    "                error_filenames.append(filename)\n",
    "\n",
    "            \n",
    "            # try:\n",
    "            #     os.remove(filename+\".pdf\")\n",
    "            # except:\n",
    "            #     logging.error(\"Could not delete \" + filename + \".pdf\")\n",
    "\n",
    "        \n",
    "    os.chdir(\"../\")\n",
    "                "
   ]
  },
  {
   "cell_type": "code",
   "execution_count": null,
   "metadata": {},
   "outputs": [],
   "source": []
  }
 ],
 "metadata": {
  "kernelspec": {
   "display_name": "Python 3",
   "language": "python",
   "name": "python3"
  },
  "language_info": {
   "codemirror_mode": {
    "name": "ipython",
    "version": 3
   },
   "file_extension": ".py",
   "mimetype": "text/x-python",
   "name": "python",
   "nbconvert_exporter": "python",
   "pygments_lexer": "ipython3",
   "version": "3.7.6"
  }
 },
 "nbformat": 4,
 "nbformat_minor": 2
}
